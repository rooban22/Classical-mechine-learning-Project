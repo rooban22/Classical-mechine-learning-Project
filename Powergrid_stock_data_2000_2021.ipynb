{
  "nbformat": 4,
  "nbformat_minor": 0,
  "metadata": {
    "colab": {
      "name": "Powergrid stock data 2000 - 2021.ipynb",
      "provenance": [],
      "collapsed_sections": [],
      "authorship_tag": "ABX9TyOP1BkbELUcf5/apK5bdCD9",
      "include_colab_link": true
    },
    "kernelspec": {
      "name": "python3",
      "display_name": "Python 3"
    },
    "language_info": {
      "name": "python"
    }
  },
  "cells": [
    {
      "cell_type": "markdown",
      "metadata": {
        "id": "view-in-github",
        "colab_type": "text"
      },
      "source": [
        "<a href=\"https://colab.research.google.com/github/rooban22/Classical-mechine-learning-Project/blob/main/Powergrid_stock_data_2000_2021.ipynb\" target=\"_parent\"><img src=\"https://colab.research.google.com/assets/colab-badge.svg\" alt=\"Open In Colab\"/></a>"
      ]
    },
    {
      "cell_type": "markdown",
      "source": [
        "**Powergrid Stock price data of the fifty stocks in NIFTY-50 index from NSE India**"
      ],
      "metadata": {
        "id": "KuvsSGAxeu28"
      }
    },
    {
      "cell_type": "code",
      "execution_count": 40,
      "metadata": {
        "id": "TD6cWIejbGuy"
      },
      "outputs": [],
      "source": [
        "import pandas as pd\n",
        "import numpy as np\n",
        "import matplotlib.pyplot as plt\n",
        "import seaborn as sns"
      ]
    },
    {
      "cell_type": "markdown",
      "source": [
        "**Importring the Dataset**"
      ],
      "metadata": {
        "id": "_nDzUsmWyi44"
      }
    },
    {
      "cell_type": "code",
      "source": [
        "\n",
        "stk_dt = pd.read_csv('POWERGRID.csv')\n",
        "stk_dt.head()"
      ],
      "metadata": {
        "colab": {
          "base_uri": "https://localhost:8080/",
          "height": 374
        },
        "id": "-NErFq3acLLi",
        "outputId": "bada81e2-b795-4acd-aada-58ed850205ba"
      },
      "execution_count": 45,
      "outputs": [
        {
          "output_type": "execute_result",
          "data": {
            "text/plain": [
              "         Date     Symbol Series  Prev Close   Open    High     Low    Last  \\\n",
              "0  2007-10-05  POWERGRID     EQ       52.00   89.8  109.50   83.15  100.20   \n",
              "1  2007-10-08  POWERGRID     EQ      100.60  104.0  104.00   94.85   95.30   \n",
              "2  2007-10-09  POWERGRID     EQ       95.45   95.5  102.85   90.35  102.10   \n",
              "3  2007-10-10  POWERGRID     EQ      101.95  104.6  105.00  102.00  102.65   \n",
              "4  2007-10-11  POWERGRID     EQ      102.90  120.0  120.00  102.00  114.85   \n",
              "\n",
              "    Close    VWAP     Volume      Turnover  Trades  Deliverable Volume  \\\n",
              "0  100.60  102.49  481058927  4.930561e+15     NaN           181390171   \n",
              "1   95.45   98.12   71252858  6.991616e+14     NaN            22115293   \n",
              "2  101.95   98.57   65658228  6.471784e+14     NaN            16991920   \n",
              "3  102.90  103.66   38211410  3.960887e+14     NaN            16409289   \n",
              "4  114.40  110.78   59805552  6.625235e+14     NaN            17530826   \n",
              "\n",
              "   %Deliverble  \n",
              "0       0.3771  \n",
              "1       0.3104  \n",
              "2       0.2588  \n",
              "3       0.4294  \n",
              "4       0.2931  "
            ],
            "text/html": [
              "\n",
              "  <div id=\"df-7f65dbd0-019a-4261-88a0-9fa686cec209\">\n",
              "    <div class=\"colab-df-container\">\n",
              "      <div>\n",
              "<style scoped>\n",
              "    .dataframe tbody tr th:only-of-type {\n",
              "        vertical-align: middle;\n",
              "    }\n",
              "\n",
              "    .dataframe tbody tr th {\n",
              "        vertical-align: top;\n",
              "    }\n",
              "\n",
              "    .dataframe thead th {\n",
              "        text-align: right;\n",
              "    }\n",
              "</style>\n",
              "<table border=\"1\" class=\"dataframe\">\n",
              "  <thead>\n",
              "    <tr style=\"text-align: right;\">\n",
              "      <th></th>\n",
              "      <th>Date</th>\n",
              "      <th>Symbol</th>\n",
              "      <th>Series</th>\n",
              "      <th>Prev Close</th>\n",
              "      <th>Open</th>\n",
              "      <th>High</th>\n",
              "      <th>Low</th>\n",
              "      <th>Last</th>\n",
              "      <th>Close</th>\n",
              "      <th>VWAP</th>\n",
              "      <th>Volume</th>\n",
              "      <th>Turnover</th>\n",
              "      <th>Trades</th>\n",
              "      <th>Deliverable Volume</th>\n",
              "      <th>%Deliverble</th>\n",
              "    </tr>\n",
              "  </thead>\n",
              "  <tbody>\n",
              "    <tr>\n",
              "      <th>0</th>\n",
              "      <td>2007-10-05</td>\n",
              "      <td>POWERGRID</td>\n",
              "      <td>EQ</td>\n",
              "      <td>52.00</td>\n",
              "      <td>89.8</td>\n",
              "      <td>109.50</td>\n",
              "      <td>83.15</td>\n",
              "      <td>100.20</td>\n",
              "      <td>100.60</td>\n",
              "      <td>102.49</td>\n",
              "      <td>481058927</td>\n",
              "      <td>4.930561e+15</td>\n",
              "      <td>NaN</td>\n",
              "      <td>181390171</td>\n",
              "      <td>0.3771</td>\n",
              "    </tr>\n",
              "    <tr>\n",
              "      <th>1</th>\n",
              "      <td>2007-10-08</td>\n",
              "      <td>POWERGRID</td>\n",
              "      <td>EQ</td>\n",
              "      <td>100.60</td>\n",
              "      <td>104.0</td>\n",
              "      <td>104.00</td>\n",
              "      <td>94.85</td>\n",
              "      <td>95.30</td>\n",
              "      <td>95.45</td>\n",
              "      <td>98.12</td>\n",
              "      <td>71252858</td>\n",
              "      <td>6.991616e+14</td>\n",
              "      <td>NaN</td>\n",
              "      <td>22115293</td>\n",
              "      <td>0.3104</td>\n",
              "    </tr>\n",
              "    <tr>\n",
              "      <th>2</th>\n",
              "      <td>2007-10-09</td>\n",
              "      <td>POWERGRID</td>\n",
              "      <td>EQ</td>\n",
              "      <td>95.45</td>\n",
              "      <td>95.5</td>\n",
              "      <td>102.85</td>\n",
              "      <td>90.35</td>\n",
              "      <td>102.10</td>\n",
              "      <td>101.95</td>\n",
              "      <td>98.57</td>\n",
              "      <td>65658228</td>\n",
              "      <td>6.471784e+14</td>\n",
              "      <td>NaN</td>\n",
              "      <td>16991920</td>\n",
              "      <td>0.2588</td>\n",
              "    </tr>\n",
              "    <tr>\n",
              "      <th>3</th>\n",
              "      <td>2007-10-10</td>\n",
              "      <td>POWERGRID</td>\n",
              "      <td>EQ</td>\n",
              "      <td>101.95</td>\n",
              "      <td>104.6</td>\n",
              "      <td>105.00</td>\n",
              "      <td>102.00</td>\n",
              "      <td>102.65</td>\n",
              "      <td>102.90</td>\n",
              "      <td>103.66</td>\n",
              "      <td>38211410</td>\n",
              "      <td>3.960887e+14</td>\n",
              "      <td>NaN</td>\n",
              "      <td>16409289</td>\n",
              "      <td>0.4294</td>\n",
              "    </tr>\n",
              "    <tr>\n",
              "      <th>4</th>\n",
              "      <td>2007-10-11</td>\n",
              "      <td>POWERGRID</td>\n",
              "      <td>EQ</td>\n",
              "      <td>102.90</td>\n",
              "      <td>120.0</td>\n",
              "      <td>120.00</td>\n",
              "      <td>102.00</td>\n",
              "      <td>114.85</td>\n",
              "      <td>114.40</td>\n",
              "      <td>110.78</td>\n",
              "      <td>59805552</td>\n",
              "      <td>6.625235e+14</td>\n",
              "      <td>NaN</td>\n",
              "      <td>17530826</td>\n",
              "      <td>0.2931</td>\n",
              "    </tr>\n",
              "  </tbody>\n",
              "</table>\n",
              "</div>\n",
              "      <button class=\"colab-df-convert\" onclick=\"convertToInteractive('df-7f65dbd0-019a-4261-88a0-9fa686cec209')\"\n",
              "              title=\"Convert this dataframe to an interactive table.\"\n",
              "              style=\"display:none;\">\n",
              "        \n",
              "  <svg xmlns=\"http://www.w3.org/2000/svg\" height=\"24px\"viewBox=\"0 0 24 24\"\n",
              "       width=\"24px\">\n",
              "    <path d=\"M0 0h24v24H0V0z\" fill=\"none\"/>\n",
              "    <path d=\"M18.56 5.44l.94 2.06.94-2.06 2.06-.94-2.06-.94-.94-2.06-.94 2.06-2.06.94zm-11 1L8.5 8.5l.94-2.06 2.06-.94-2.06-.94L8.5 2.5l-.94 2.06-2.06.94zm10 10l.94 2.06.94-2.06 2.06-.94-2.06-.94-.94-2.06-.94 2.06-2.06.94z\"/><path d=\"M17.41 7.96l-1.37-1.37c-.4-.4-.92-.59-1.43-.59-.52 0-1.04.2-1.43.59L10.3 9.45l-7.72 7.72c-.78.78-.78 2.05 0 2.83L4 21.41c.39.39.9.59 1.41.59.51 0 1.02-.2 1.41-.59l7.78-7.78 2.81-2.81c.8-.78.8-2.07 0-2.86zM5.41 20L4 18.59l7.72-7.72 1.47 1.35L5.41 20z\"/>\n",
              "  </svg>\n",
              "      </button>\n",
              "      \n",
              "  <style>\n",
              "    .colab-df-container {\n",
              "      display:flex;\n",
              "      flex-wrap:wrap;\n",
              "      gap: 12px;\n",
              "    }\n",
              "\n",
              "    .colab-df-convert {\n",
              "      background-color: #E8F0FE;\n",
              "      border: none;\n",
              "      border-radius: 50%;\n",
              "      cursor: pointer;\n",
              "      display: none;\n",
              "      fill: #1967D2;\n",
              "      height: 32px;\n",
              "      padding: 0 0 0 0;\n",
              "      width: 32px;\n",
              "    }\n",
              "\n",
              "    .colab-df-convert:hover {\n",
              "      background-color: #E2EBFA;\n",
              "      box-shadow: 0px 1px 2px rgba(60, 64, 67, 0.3), 0px 1px 3px 1px rgba(60, 64, 67, 0.15);\n",
              "      fill: #174EA6;\n",
              "    }\n",
              "\n",
              "    [theme=dark] .colab-df-convert {\n",
              "      background-color: #3B4455;\n",
              "      fill: #D2E3FC;\n",
              "    }\n",
              "\n",
              "    [theme=dark] .colab-df-convert:hover {\n",
              "      background-color: #434B5C;\n",
              "      box-shadow: 0px 1px 3px 1px rgba(0, 0, 0, 0.15);\n",
              "      filter: drop-shadow(0px 1px 2px rgba(0, 0, 0, 0.3));\n",
              "      fill: #FFFFFF;\n",
              "    }\n",
              "  </style>\n",
              "\n",
              "      <script>\n",
              "        const buttonEl =\n",
              "          document.querySelector('#df-7f65dbd0-019a-4261-88a0-9fa686cec209 button.colab-df-convert');\n",
              "        buttonEl.style.display =\n",
              "          google.colab.kernel.accessAllowed ? 'block' : 'none';\n",
              "\n",
              "        async function convertToInteractive(key) {\n",
              "          const element = document.querySelector('#df-7f65dbd0-019a-4261-88a0-9fa686cec209');\n",
              "          const dataTable =\n",
              "            await google.colab.kernel.invokeFunction('convertToInteractive',\n",
              "                                                     [key], {});\n",
              "          if (!dataTable) return;\n",
              "\n",
              "          const docLinkHtml = 'Like what you see? Visit the ' +\n",
              "            '<a target=\"_blank\" href=https://colab.research.google.com/notebooks/data_table.ipynb>data table notebook</a>'\n",
              "            + ' to learn more about interactive tables.';\n",
              "          element.innerHTML = '';\n",
              "          dataTable['output_type'] = 'display_data';\n",
              "          await google.colab.output.renderOutput(dataTable, element);\n",
              "          const docLink = document.createElement('div');\n",
              "          docLink.innerHTML = docLinkHtml;\n",
              "          element.appendChild(docLink);\n",
              "        }\n",
              "      </script>\n",
              "    </div>\n",
              "  </div>\n",
              "  "
            ]
          },
          "metadata": {},
          "execution_count": 45
        }
      ]
    },
    {
      "cell_type": "markdown",
      "source": [
        "**Describing The Dataset**"
      ],
      "metadata": {
        "id": "P_s47uN9yzdf"
      }
    },
    {
      "cell_type": "code",
      "source": [
        "stk_dt.info()\n",
        "stk_dt.describe"
      ],
      "metadata": {
        "colab": {
          "base_uri": "https://localhost:8080/",
          "height": 0
        },
        "id": "Ml_b6Mw1d1rF",
        "outputId": "9ab5327f-ba02-421f-a73f-1e576abf76a8"
      },
      "execution_count": 4,
      "outputs": [
        {
          "output_type": "stream",
          "name": "stdout",
          "text": [
            "<class 'pandas.core.frame.DataFrame'>\n",
            "RangeIndex: 3359 entries, 0 to 3358\n",
            "Data columns (total 15 columns):\n",
            " #   Column              Non-Null Count  Dtype  \n",
            "---  ------              --------------  -----  \n",
            " 0   Date                3359 non-null   object \n",
            " 1   Symbol              3359 non-null   object \n",
            " 2   Series              3359 non-null   object \n",
            " 3   Prev Close          3359 non-null   float64\n",
            " 4   Open                3359 non-null   float64\n",
            " 5   High                3359 non-null   float64\n",
            " 6   Low                 3359 non-null   float64\n",
            " 7   Last                3359 non-null   float64\n",
            " 8   Close               3359 non-null   float64\n",
            " 9   VWAP                3359 non-null   float64\n",
            " 10  Volume              3359 non-null   int64  \n",
            " 11  Turnover            3359 non-null   float64\n",
            " 12  Trades              2456 non-null   float64\n",
            " 13  Deliverable Volume  3359 non-null   int64  \n",
            " 14  %Deliverble         3359 non-null   float64\n",
            "dtypes: float64(10), int64(2), object(3)\n",
            "memory usage: 393.8+ KB\n"
          ]
        },
        {
          "output_type": "execute_result",
          "data": {
            "text/plain": [
              "<bound method NDFrame.describe of             Date     Symbol Series  Prev Close    Open    High     Low  \\\n",
              "0     2007-10-05  POWERGRID     EQ       52.00   89.80  109.50   83.15   \n",
              "1     2007-10-08  POWERGRID     EQ      100.60  104.00  104.00   94.85   \n",
              "2     2007-10-09  POWERGRID     EQ       95.45   95.50  102.85   90.35   \n",
              "3     2007-10-10  POWERGRID     EQ      101.95  104.60  105.00  102.00   \n",
              "4     2007-10-11  POWERGRID     EQ      102.90  120.00  120.00  102.00   \n",
              "...          ...        ...    ...         ...     ...     ...     ...   \n",
              "3354  2021-04-26  POWERGRID     EQ      211.15  208.20  216.45  208.20   \n",
              "3355  2021-04-27  POWERGRID     EQ      215.80  216.05  220.50  215.80   \n",
              "3356  2021-04-28  POWERGRID     EQ      216.65  218.80  221.70  216.30   \n",
              "3357  2021-04-29  POWERGRID     EQ      220.90  223.10  223.65  219.05   \n",
              "3358  2021-04-30  POWERGRID     EQ      220.15  217.75  222.30  216.65   \n",
              "\n",
              "        Last   Close    VWAP     Volume      Turnover   Trades  \\\n",
              "0     100.20  100.60  102.49  481058927  4.930561e+15      NaN   \n",
              "1      95.30   95.45   98.12   71252858  6.991616e+14      NaN   \n",
              "2     102.10  101.95   98.57   65658228  6.471784e+14      NaN   \n",
              "3     102.65  102.90  103.66   38211410  3.960887e+14      NaN   \n",
              "4     114.85  114.40  110.78   59805552  6.625235e+14      NaN   \n",
              "...      ...     ...     ...        ...           ...      ...   \n",
              "3354  215.75  215.80  213.23   10765892  2.295642e+14  72260.0   \n",
              "3355  216.40  216.65  217.89    8589721  1.871605e+14  77004.0   \n",
              "3356  221.35  220.90  219.20    9215766  2.020103e+14  55866.0   \n",
              "3357  219.80  220.15  220.60    8303610  1.831748e+14  48655.0   \n",
              "3358  220.35  220.05  220.24    9504624  2.093328e+14  56225.0   \n",
              "\n",
              "      Deliverable Volume  %Deliverble  \n",
              "0              181390171       0.3771  \n",
              "1               22115293       0.3104  \n",
              "2               16991920       0.2588  \n",
              "3               16409289       0.4294  \n",
              "4               17530826       0.2931  \n",
              "...                  ...          ...  \n",
              "3354             3544712       0.3293  \n",
              "3355             2723654       0.3171  \n",
              "3356             3775749       0.4097  \n",
              "3357             3692925       0.4447  \n",
              "3358             4634594       0.4876  \n",
              "\n",
              "[3359 rows x 15 columns]>"
            ]
          },
          "metadata": {},
          "execution_count": 4
        }
      ]
    },
    {
      "cell_type": "markdown",
      "source": [
        "**Cleaning the Data and performing exploratory analysis**"
      ],
      "metadata": {
        "id": "VgZtlpFKzBQ-"
      }
    },
    {
      "cell_type": "code",
      "source": [
        "\n",
        "to_drop = ['Trades','Deliverable Volume','%Deliverble']\n",
        "\n",
        "stk_dt.drop(to_drop, inplace=True, axis=1)\n",
        "stk_dt.info()\n",
        "stk_dt.describe\n",
        "\n"
      ],
      "metadata": {
        "colab": {
          "base_uri": "https://localhost:8080/",
          "height": 0
        },
        "id": "ILBW5NkUeHk7",
        "outputId": "b5e80080-f1f9-4771-c28a-a5ee5cbfb279"
      },
      "execution_count": 46,
      "outputs": [
        {
          "output_type": "stream",
          "name": "stdout",
          "text": [
            "<class 'pandas.core.frame.DataFrame'>\n",
            "RangeIndex: 3359 entries, 0 to 3358\n",
            "Data columns (total 12 columns):\n",
            " #   Column      Non-Null Count  Dtype  \n",
            "---  ------      --------------  -----  \n",
            " 0   Date        3359 non-null   object \n",
            " 1   Symbol      3359 non-null   object \n",
            " 2   Series      3359 non-null   object \n",
            " 3   Prev Close  3359 non-null   float64\n",
            " 4   Open        3359 non-null   float64\n",
            " 5   High        3359 non-null   float64\n",
            " 6   Low         3359 non-null   float64\n",
            " 7   Last        3359 non-null   float64\n",
            " 8   Close       3359 non-null   float64\n",
            " 9   VWAP        3359 non-null   float64\n",
            " 10  Volume      3359 non-null   int64  \n",
            " 11  Turnover    3359 non-null   float64\n",
            "dtypes: float64(8), int64(1), object(3)\n",
            "memory usage: 315.0+ KB\n"
          ]
        },
        {
          "output_type": "execute_result",
          "data": {
            "text/plain": [
              "<bound method NDFrame.describe of             Date     Symbol Series  Prev Close    Open    High     Low  \\\n",
              "0     2007-10-05  POWERGRID     EQ       52.00   89.80  109.50   83.15   \n",
              "1     2007-10-08  POWERGRID     EQ      100.60  104.00  104.00   94.85   \n",
              "2     2007-10-09  POWERGRID     EQ       95.45   95.50  102.85   90.35   \n",
              "3     2007-10-10  POWERGRID     EQ      101.95  104.60  105.00  102.00   \n",
              "4     2007-10-11  POWERGRID     EQ      102.90  120.00  120.00  102.00   \n",
              "...          ...        ...    ...         ...     ...     ...     ...   \n",
              "3354  2021-04-26  POWERGRID     EQ      211.15  208.20  216.45  208.20   \n",
              "3355  2021-04-27  POWERGRID     EQ      215.80  216.05  220.50  215.80   \n",
              "3356  2021-04-28  POWERGRID     EQ      216.65  218.80  221.70  216.30   \n",
              "3357  2021-04-29  POWERGRID     EQ      220.90  223.10  223.65  219.05   \n",
              "3358  2021-04-30  POWERGRID     EQ      220.15  217.75  222.30  216.65   \n",
              "\n",
              "        Last   Close    VWAP     Volume      Turnover  \n",
              "0     100.20  100.60  102.49  481058927  4.930561e+15  \n",
              "1      95.30   95.45   98.12   71252858  6.991616e+14  \n",
              "2     102.10  101.95   98.57   65658228  6.471784e+14  \n",
              "3     102.65  102.90  103.66   38211410  3.960887e+14  \n",
              "4     114.85  114.40  110.78   59805552  6.625235e+14  \n",
              "...      ...     ...     ...        ...           ...  \n",
              "3354  215.75  215.80  213.23   10765892  2.295642e+14  \n",
              "3355  216.40  216.65  217.89    8589721  1.871605e+14  \n",
              "3356  221.35  220.90  219.20    9215766  2.020103e+14  \n",
              "3357  219.80  220.15  220.60    8303610  1.831748e+14  \n",
              "3358  220.35  220.05  220.24    9504624  2.093328e+14  \n",
              "\n",
              "[3359 rows x 12 columns]>"
            ]
          },
          "metadata": {},
          "execution_count": 46
        }
      ]
    },
    {
      "cell_type": "code",
      "source": [
        "stk_dt.head()"
      ],
      "metadata": {
        "colab": {
          "base_uri": "https://localhost:8080/",
          "height": 206
        },
        "id": "_qVKVhE02FZc",
        "outputId": "6b8fecf4-abed-4cd6-f75e-57132280e8fa"
      },
      "execution_count": 48,
      "outputs": [
        {
          "output_type": "execute_result",
          "data": {
            "text/plain": [
              "         Date     Symbol Series  Prev Close   Open    High     Low    Last  \\\n",
              "0  2007-10-05  POWERGRID     EQ       52.00   89.8  109.50   83.15  100.20   \n",
              "1  2007-10-08  POWERGRID     EQ      100.60  104.0  104.00   94.85   95.30   \n",
              "2  2007-10-09  POWERGRID     EQ       95.45   95.5  102.85   90.35  102.10   \n",
              "3  2007-10-10  POWERGRID     EQ      101.95  104.6  105.00  102.00  102.65   \n",
              "4  2007-10-11  POWERGRID     EQ      102.90  120.0  120.00  102.00  114.85   \n",
              "\n",
              "    Close    VWAP     Volume      Turnover  \n",
              "0  100.60  102.49  481058927  4.930561e+15  \n",
              "1   95.45   98.12   71252858  6.991616e+14  \n",
              "2  101.95   98.57   65658228  6.471784e+14  \n",
              "3  102.90  103.66   38211410  3.960887e+14  \n",
              "4  114.40  110.78   59805552  6.625235e+14  "
            ],
            "text/html": [
              "\n",
              "  <div id=\"df-c30802f7-76a9-4a22-b45d-9279e0fe9129\">\n",
              "    <div class=\"colab-df-container\">\n",
              "      <div>\n",
              "<style scoped>\n",
              "    .dataframe tbody tr th:only-of-type {\n",
              "        vertical-align: middle;\n",
              "    }\n",
              "\n",
              "    .dataframe tbody tr th {\n",
              "        vertical-align: top;\n",
              "    }\n",
              "\n",
              "    .dataframe thead th {\n",
              "        text-align: right;\n",
              "    }\n",
              "</style>\n",
              "<table border=\"1\" class=\"dataframe\">\n",
              "  <thead>\n",
              "    <tr style=\"text-align: right;\">\n",
              "      <th></th>\n",
              "      <th>Date</th>\n",
              "      <th>Symbol</th>\n",
              "      <th>Series</th>\n",
              "      <th>Prev Close</th>\n",
              "      <th>Open</th>\n",
              "      <th>High</th>\n",
              "      <th>Low</th>\n",
              "      <th>Last</th>\n",
              "      <th>Close</th>\n",
              "      <th>VWAP</th>\n",
              "      <th>Volume</th>\n",
              "      <th>Turnover</th>\n",
              "    </tr>\n",
              "  </thead>\n",
              "  <tbody>\n",
              "    <tr>\n",
              "      <th>0</th>\n",
              "      <td>2007-10-05</td>\n",
              "      <td>POWERGRID</td>\n",
              "      <td>EQ</td>\n",
              "      <td>52.00</td>\n",
              "      <td>89.8</td>\n",
              "      <td>109.50</td>\n",
              "      <td>83.15</td>\n",
              "      <td>100.20</td>\n",
              "      <td>100.60</td>\n",
              "      <td>102.49</td>\n",
              "      <td>481058927</td>\n",
              "      <td>4.930561e+15</td>\n",
              "    </tr>\n",
              "    <tr>\n",
              "      <th>1</th>\n",
              "      <td>2007-10-08</td>\n",
              "      <td>POWERGRID</td>\n",
              "      <td>EQ</td>\n",
              "      <td>100.60</td>\n",
              "      <td>104.0</td>\n",
              "      <td>104.00</td>\n",
              "      <td>94.85</td>\n",
              "      <td>95.30</td>\n",
              "      <td>95.45</td>\n",
              "      <td>98.12</td>\n",
              "      <td>71252858</td>\n",
              "      <td>6.991616e+14</td>\n",
              "    </tr>\n",
              "    <tr>\n",
              "      <th>2</th>\n",
              "      <td>2007-10-09</td>\n",
              "      <td>POWERGRID</td>\n",
              "      <td>EQ</td>\n",
              "      <td>95.45</td>\n",
              "      <td>95.5</td>\n",
              "      <td>102.85</td>\n",
              "      <td>90.35</td>\n",
              "      <td>102.10</td>\n",
              "      <td>101.95</td>\n",
              "      <td>98.57</td>\n",
              "      <td>65658228</td>\n",
              "      <td>6.471784e+14</td>\n",
              "    </tr>\n",
              "    <tr>\n",
              "      <th>3</th>\n",
              "      <td>2007-10-10</td>\n",
              "      <td>POWERGRID</td>\n",
              "      <td>EQ</td>\n",
              "      <td>101.95</td>\n",
              "      <td>104.6</td>\n",
              "      <td>105.00</td>\n",
              "      <td>102.00</td>\n",
              "      <td>102.65</td>\n",
              "      <td>102.90</td>\n",
              "      <td>103.66</td>\n",
              "      <td>38211410</td>\n",
              "      <td>3.960887e+14</td>\n",
              "    </tr>\n",
              "    <tr>\n",
              "      <th>4</th>\n",
              "      <td>2007-10-11</td>\n",
              "      <td>POWERGRID</td>\n",
              "      <td>EQ</td>\n",
              "      <td>102.90</td>\n",
              "      <td>120.0</td>\n",
              "      <td>120.00</td>\n",
              "      <td>102.00</td>\n",
              "      <td>114.85</td>\n",
              "      <td>114.40</td>\n",
              "      <td>110.78</td>\n",
              "      <td>59805552</td>\n",
              "      <td>6.625235e+14</td>\n",
              "    </tr>\n",
              "  </tbody>\n",
              "</table>\n",
              "</div>\n",
              "      <button class=\"colab-df-convert\" onclick=\"convertToInteractive('df-c30802f7-76a9-4a22-b45d-9279e0fe9129')\"\n",
              "              title=\"Convert this dataframe to an interactive table.\"\n",
              "              style=\"display:none;\">\n",
              "        \n",
              "  <svg xmlns=\"http://www.w3.org/2000/svg\" height=\"24px\"viewBox=\"0 0 24 24\"\n",
              "       width=\"24px\">\n",
              "    <path d=\"M0 0h24v24H0V0z\" fill=\"none\"/>\n",
              "    <path d=\"M18.56 5.44l.94 2.06.94-2.06 2.06-.94-2.06-.94-.94-2.06-.94 2.06-2.06.94zm-11 1L8.5 8.5l.94-2.06 2.06-.94-2.06-.94L8.5 2.5l-.94 2.06-2.06.94zm10 10l.94 2.06.94-2.06 2.06-.94-2.06-.94-.94-2.06-.94 2.06-2.06.94z\"/><path d=\"M17.41 7.96l-1.37-1.37c-.4-.4-.92-.59-1.43-.59-.52 0-1.04.2-1.43.59L10.3 9.45l-7.72 7.72c-.78.78-.78 2.05 0 2.83L4 21.41c.39.39.9.59 1.41.59.51 0 1.02-.2 1.41-.59l7.78-7.78 2.81-2.81c.8-.78.8-2.07 0-2.86zM5.41 20L4 18.59l7.72-7.72 1.47 1.35L5.41 20z\"/>\n",
              "  </svg>\n",
              "      </button>\n",
              "      \n",
              "  <style>\n",
              "    .colab-df-container {\n",
              "      display:flex;\n",
              "      flex-wrap:wrap;\n",
              "      gap: 12px;\n",
              "    }\n",
              "\n",
              "    .colab-df-convert {\n",
              "      background-color: #E8F0FE;\n",
              "      border: none;\n",
              "      border-radius: 50%;\n",
              "      cursor: pointer;\n",
              "      display: none;\n",
              "      fill: #1967D2;\n",
              "      height: 32px;\n",
              "      padding: 0 0 0 0;\n",
              "      width: 32px;\n",
              "    }\n",
              "\n",
              "    .colab-df-convert:hover {\n",
              "      background-color: #E2EBFA;\n",
              "      box-shadow: 0px 1px 2px rgba(60, 64, 67, 0.3), 0px 1px 3px 1px rgba(60, 64, 67, 0.15);\n",
              "      fill: #174EA6;\n",
              "    }\n",
              "\n",
              "    [theme=dark] .colab-df-convert {\n",
              "      background-color: #3B4455;\n",
              "      fill: #D2E3FC;\n",
              "    }\n",
              "\n",
              "    [theme=dark] .colab-df-convert:hover {\n",
              "      background-color: #434B5C;\n",
              "      box-shadow: 0px 1px 3px 1px rgba(0, 0, 0, 0.15);\n",
              "      filter: drop-shadow(0px 1px 2px rgba(0, 0, 0, 0.3));\n",
              "      fill: #FFFFFF;\n",
              "    }\n",
              "  </style>\n",
              "\n",
              "      <script>\n",
              "        const buttonEl =\n",
              "          document.querySelector('#df-c30802f7-76a9-4a22-b45d-9279e0fe9129 button.colab-df-convert');\n",
              "        buttonEl.style.display =\n",
              "          google.colab.kernel.accessAllowed ? 'block' : 'none';\n",
              "\n",
              "        async function convertToInteractive(key) {\n",
              "          const element = document.querySelector('#df-c30802f7-76a9-4a22-b45d-9279e0fe9129');\n",
              "          const dataTable =\n",
              "            await google.colab.kernel.invokeFunction('convertToInteractive',\n",
              "                                                     [key], {});\n",
              "          if (!dataTable) return;\n",
              "\n",
              "          const docLinkHtml = 'Like what you see? Visit the ' +\n",
              "            '<a target=\"_blank\" href=https://colab.research.google.com/notebooks/data_table.ipynb>data table notebook</a>'\n",
              "            + ' to learn more about interactive tables.';\n",
              "          element.innerHTML = '';\n",
              "          dataTable['output_type'] = 'display_data';\n",
              "          await google.colab.output.renderOutput(dataTable, element);\n",
              "          const docLink = document.createElement('div');\n",
              "          docLink.innerHTML = docLinkHtml;\n",
              "          element.appendChild(docLink);\n",
              "        }\n",
              "      </script>\n",
              "    </div>\n",
              "  </div>\n",
              "  "
            ]
          },
          "metadata": {},
          "execution_count": 48
        }
      ]
    },
    {
      "cell_type": "markdown",
      "source": [
        "**graphical vishualisation** "
      ],
      "metadata": {
        "id": "cSwmNWOGzQtn"
      }
    },
    {
      "cell_type": "code",
      "source": [
        "sns.distplot(stk_dt['Open'])"
      ],
      "metadata": {
        "colab": {
          "base_uri": "https://localhost:8080/",
          "height": 351
        },
        "id": "KNujwzquf3Yt",
        "outputId": "d34598f4-921e-4624-f12c-5c95a5353cf4"
      },
      "execution_count": 6,
      "outputs": [
        {
          "output_type": "stream",
          "name": "stderr",
          "text": [
            "/usr/local/lib/python3.7/dist-packages/seaborn/distributions.py:2619: FutureWarning: `distplot` is a deprecated function and will be removed in a future version. Please adapt your code to use either `displot` (a figure-level function with similar flexibility) or `histplot` (an axes-level function for histograms).\n",
            "  warnings.warn(msg, FutureWarning)\n"
          ]
        },
        {
          "output_type": "execute_result",
          "data": {
            "text/plain": [
              "<matplotlib.axes._subplots.AxesSubplot at 0x7f9237923f10>"
            ]
          },
          "metadata": {},
          "execution_count": 6
        },
        {
          "output_type": "display_data",
          "data": {
            "text/plain": [
              "<Figure size 432x288 with 1 Axes>"
            ],
            "image/png": "[encoded data removed]"
          },
          "metadata": {
            "needs_background": "light"
          }
        }
      ]
    },
    {
      "cell_type": "code",
      "source": [
        "sns.distplot(stk_dt['Close'])"
      ],
      "metadata": {
        "colab": {
          "base_uri": "https://localhost:8080/",
          "height": 351
        },
        "id": "do6-DyfLgTRM",
        "outputId": "ae9ec595-439f-4179-a95f-f3cb1bff949b"
      },
      "execution_count": 7,
      "outputs": [
        {
          "output_type": "stream",
          "name": "stderr",
          "text": [
            "/usr/local/lib/python3.7/dist-packages/seaborn/distributions.py:2619: FutureWarning: `distplot` is a deprecated function and will be removed in a future version. Please adapt your code to use either `displot` (a figure-level function with similar flexibility) or `histplot` (an axes-level function for histograms).\n",
            "  warnings.warn(msg, FutureWarning)\n"
          ]
        },
        {
          "output_type": "execute_result",
          "data": {
            "text/plain": [
              "<matplotlib.axes._subplots.AxesSubplot at 0x7f923782a3d0>"
            ]
          },
          "metadata": {},
          "execution_count": 7
        },
        {
          "output_type": "display_data",
          "data": {
            "text/plain": [
              "<Figure size 432x288 with 1 Axes>"
            ],
            "image/png": "[encoded data removed]"
          },
          "metadata": {
            "needs_background": "light"
          }
        }
      ]
    },
    {
      "cell_type": "markdown",
      "source": [
        "**Modeling using Supervised Learning Technique**\n",
        "\n",
        "**Testing and Training the Data**"
      ],
      "metadata": {
        "id": "n1T-EUTqz1RQ"
      }
    },
    {
      "cell_type": "code",
      "source": [
        "from sklearn import tree\n",
        "from numpy.core.fromnumeric import reshape\n",
        "import graphviz\n",
        "from sklearn.tree import DecisionTreeClassifier\n",
        "from sklearn.model_selection import train_test_split, cross_val_score\n",
        "\n",
        "x = stk_dt['VWAP']\n",
        "y = stk_dt['Volume']\n",
        "\n"
      ],
      "metadata": {
        "id": "MZBig0zFhPVg"
      },
      "execution_count": 30,
      "outputs": []
    },
    {
      "cell_type": "code",
      "source": [
        "#before training the data we have to split our data into actual train and actual test dataset for training and validation\n",
        "xtrain, xtest ,ytrain ,ytest = train_test_split(x, y, test_size = 0.30, random_state = 42)\n",
        "\n",
        "#splitting data into validation train and validation test (optional)\n",
        "xt, xcv, yt, ycv = train_test_split(xtrain, ytrain, test_size = 0.10, random_state = 42)\n",
        "#clf() is the short for classifier\n",
        "stk_dt_clf = DecisionTreeClassifier(criterion='gini', min_samples_split=2) #specifies the minimum number of samples required to split an internal node\n",
        "stk_dt_clf.fit([xtrain],[ytrain])\n",
        "\n",
        "#vishualised the tree on which is formed on train dataset\n",
        "tree.plot_tree(stk_dt_clf)\n",
        "#remember how you plot your data is important\n",
        "dot_data = tree.export_graphviz(stk_dt_clf, out_file=None)\n",
        "\n",
        "graph = graphviz.Source(dot_data)\n",
        "graph\n",
        "#this function is to plot the data in a clean way\n"
      ],
      "metadata": {
        "colab": {
          "base_uri": "https://localhost:8080/",
          "height": 454
        },
        "id": "_NTX8NUehqVJ",
        "outputId": "9d981f49-b3d5-41de-f0cd-1f2753cad4f8"
      },
      "execution_count": 35,
      "outputs": [
        {
          "output_type": "execute_result",
          "data": {
            "text/plain": [
              "<graphviz.files.Source at 0x7f9231c019d0>"
            ],
            "image/svg+xml": "<?xml version=\"1.0\" encoding=\"UTF-8\" standalone=\"no\"?>\n<!DOCTYPE svg PUBLIC \"-//W3C//DTD SVG 1.1//EN\"\n \"http://www.w3.org/Graphics/SVG/1.1/DTD/svg11.dtd\">\n<!-- Generated by graphviz version 2.40.1 (20161225.0304)\n -->\n<!-- Title: Tree Pages: 1 -->\n<svg width=\"107pt\" height=\"151pt\"\n viewBox=\"0.00 0.00 107.00 151.00\" xmlns=\"http://www.w3.org/2000/svg\" xmlns:xlink=\"http://www.w3.org/1999/xlink\">\n<g id=\"graph0\" class=\"graph\" transform=\"scale(1 1) rotate(0) translate(4 147)\">\n<title>Tree</title>\n<polygon fill=\"#ffffff\" stroke=\"transparent\" points=\"-4,4 -4,-147 103,-147 103,4 -4,4\"/>\n<!-- 0 -->\n<g id=\"node1\" class=\"node\">\n<title>0</title>\n<polygon fill=\"none\" stroke=\"#000000\" points=\"99,-143 0,-143 0,0 99,0 99,-143\"/>\n<text text-anchor=\"middle\" x=\"49.5\" y=\"-127.8\" font-family=\"Helvetica,sans-Serif\" font-size=\"14.00\" fill=\"#000000\">gini = 0.0</text>\n<text text-anchor=\"middle\" x=\"49.5\" y=\"-112.8\" font-family=\"Helvetica,sans-Serif\" font-size=\"14.00\" fill=\"#000000\">samples = 1</text>\n<text text-anchor=\"middle\" x=\"49.5\" y=\"-97.8\" font-family=\"Helvetica,sans-Serif\" font-size=\"14.00\" fill=\"#000000\">value = [[1.0]</text>\n<text text-anchor=\"middle\" x=\"49.5\" y=\"-82.8\" font-family=\"Helvetica,sans-Serif\" font-size=\"14.00\" fill=\"#000000\">[1.0]</text>\n<text text-anchor=\"middle\" x=\"49.5\" y=\"-67.8\" font-family=\"Helvetica,sans-Serif\" font-size=\"14.00\" fill=\"#000000\">[1.0]</text>\n<text text-anchor=\"middle\" x=\"49.5\" y=\"-52.8\" font-family=\"Helvetica,sans-Serif\" font-size=\"14.00\" fill=\"#000000\">...</text>\n<text text-anchor=\"middle\" x=\"49.5\" y=\"-37.8\" font-family=\"Helvetica,sans-Serif\" font-size=\"14.00\" fill=\"#000000\">[1.0]</text>\n<text text-anchor=\"middle\" x=\"49.5\" y=\"-22.8\" font-family=\"Helvetica,sans-Serif\" font-size=\"14.00\" fill=\"#000000\">[1.0]</text>\n<text text-anchor=\"middle\" x=\"49.5\" y=\"-7.8\" font-family=\"Helvetica,sans-Serif\" font-size=\"14.00\" fill=\"#000000\">[1.0]]</text>\n</g>\n</g>\n</svg>\n"
          },
          "metadata": {},
          "execution_count": 35
        },
        {
          "output_type": "display_data",
          "data": {
            "text/plain": [
              "<Figure size 432x288 with 1 Axes>"
            ],
            "image/png": "[encoded data removed]"
          },
          "metadata": {
            "needs_background": "light"
          }
        }
      ]
    },
    {
      "cell_type": "markdown",
      "source": [
        "[**Conclusion**]\n",
        "\n",
        "**Power Grid Corporation of India Limited is an Indian statutory corporation under the jurisdiction of Ministry of Power, Government of India and is headquartered in Gurugram, India and engaged mainly in transmission of bulk power across different states of India. Power Grid transmits about 50% of the total power generated in India on its transmission network. It is also certified for PAS 99:.**\n",
        "\n",
        "**POWERGRID is going to become service provider to different utilities for Advanced Metering comprising of Smart Meters, Communication System and Control Centre application on CAPEX as well as OPEX model. Battery Energy Storage Systems (BESS) is another prominent area where new investments shall be made.**"
      ],
      "metadata": {
        "id": "fe1RZrSz0jr7"
      }
    }
  ]
}